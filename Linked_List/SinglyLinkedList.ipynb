{
 "cells": [
  {
   "cell_type": "code",
   "execution_count": null,
   "id": "62dd2feb",
   "metadata": {},
   "outputs": [],
   "source": [
    "\n",
    "\n",
    "class Node:\n",
    "    def __init__(self,value=None):\n",
    "        self.value=value\n",
    "        self.next=None\n",
    "\n",
    "class SinglyList:\n",
    "    def __int__(self):\n",
    "        self.head= None\n",
    "        self.tail= None\n",
    "        \n",
    "    \n",
    "singlyLinkedList=singlyList()\n",
    "node1=Node(1)\n",
    "node2=Node(2)\n",
    "\n",
    "\n",
    "singlyLinkedList.head=node1\n",
    "singlyLinkedList.head.next=node2\n",
    "singlyLinkedList.tail=node2\n"
   ]
  },
  {
   "cell_type": "code",
   "execution_count": 3,
   "id": "62141f28",
   "metadata": {},
   "outputs": [
    {
     "ename": "AttributeError",
     "evalue": "'SinglyList' object has no attribute 'head'",
     "output_type": "error",
     "traceback": [
      "\u001b[1;31m---------------------------------------------------------------------------\u001b[0m",
      "\u001b[1;31mAttributeError\u001b[0m                            Traceback (most recent call last)",
      "\u001b[1;32mC:\\Users\\AST_RI~1\\AppData\\Local\\Temp/ipykernel_17496/3696452853.py\u001b[0m in \u001b[0;36m<module>\u001b[1;34m\u001b[0m\n\u001b[0;32m     15\u001b[0m \u001b[1;33m\u001b[0m\u001b[0m\n\u001b[0;32m     16\u001b[0m \u001b[0msinglyLinkedList\u001b[0m\u001b[1;33m=\u001b[0m\u001b[0mSinglyList\u001b[0m\u001b[1;33m(\u001b[0m\u001b[1;33m)\u001b[0m\u001b[1;33m\u001b[0m\u001b[1;33m\u001b[0m\u001b[0m\n\u001b[1;32m---> 17\u001b[1;33m \u001b[0mprint\u001b[0m\u001b[1;33m(\u001b[0m\u001b[1;33m[\u001b[0m\u001b[0mnode\u001b[0m\u001b[1;33m.\u001b[0m\u001b[0mvalue\u001b[0m \u001b[1;32mfor\u001b[0m \u001b[0mnode\u001b[0m \u001b[1;32min\u001b[0m \u001b[0msinglyLinkedList\u001b[0m\u001b[1;33m]\u001b[0m\u001b[1;33m)\u001b[0m\u001b[1;33m\u001b[0m\u001b[1;33m\u001b[0m\u001b[0m\n\u001b[0m",
      "\u001b[1;32mC:\\Users\\AST_RI~1\\AppData\\Local\\Temp/ipykernel_17496/3696452853.py\u001b[0m in \u001b[0;36m<listcomp>\u001b[1;34m(.0)\u001b[0m\n\u001b[0;32m     15\u001b[0m \u001b[1;33m\u001b[0m\u001b[0m\n\u001b[0;32m     16\u001b[0m \u001b[0msinglyLinkedList\u001b[0m\u001b[1;33m=\u001b[0m\u001b[0mSinglyList\u001b[0m\u001b[1;33m(\u001b[0m\u001b[1;33m)\u001b[0m\u001b[1;33m\u001b[0m\u001b[1;33m\u001b[0m\u001b[0m\n\u001b[1;32m---> 17\u001b[1;33m \u001b[0mprint\u001b[0m\u001b[1;33m(\u001b[0m\u001b[1;33m[\u001b[0m\u001b[0mnode\u001b[0m\u001b[1;33m.\u001b[0m\u001b[0mvalue\u001b[0m \u001b[1;32mfor\u001b[0m \u001b[0mnode\u001b[0m \u001b[1;32min\u001b[0m \u001b[0msinglyLinkedList\u001b[0m\u001b[1;33m]\u001b[0m\u001b[1;33m)\u001b[0m\u001b[1;33m\u001b[0m\u001b[1;33m\u001b[0m\u001b[0m\n\u001b[0m",
      "\u001b[1;32mC:\\Users\\AST_RI~1\\AppData\\Local\\Temp/ipykernel_17496/3696452853.py\u001b[0m in \u001b[0;36m__iter__\u001b[1;34m(self)\u001b[0m\n\u001b[0;32m      9\u001b[0m         \u001b[0mself\u001b[0m\u001b[1;33m.\u001b[0m\u001b[0mtail\u001b[0m\u001b[1;33m=\u001b[0m \u001b[1;32mNone\u001b[0m\u001b[1;33m\u001b[0m\u001b[1;33m\u001b[0m\u001b[0m\n\u001b[0;32m     10\u001b[0m     \u001b[1;32mdef\u001b[0m \u001b[0m__iter__\u001b[0m\u001b[1;33m(\u001b[0m\u001b[0mself\u001b[0m\u001b[1;33m)\u001b[0m\u001b[1;33m:\u001b[0m\u001b[1;33m\u001b[0m\u001b[1;33m\u001b[0m\u001b[0m\n\u001b[1;32m---> 11\u001b[1;33m         \u001b[0mnode\u001b[0m\u001b[1;33m=\u001b[0m\u001b[0mself\u001b[0m\u001b[1;33m.\u001b[0m\u001b[0mhead\u001b[0m\u001b[1;33m\u001b[0m\u001b[1;33m\u001b[0m\u001b[0m\n\u001b[0m\u001b[0;32m     12\u001b[0m         \u001b[1;32mwhile\u001b[0m \u001b[0mnode\u001b[0m\u001b[1;33m:\u001b[0m\u001b[1;33m\u001b[0m\u001b[1;33m\u001b[0m\u001b[0m\n\u001b[0;32m     13\u001b[0m             \u001b[1;32myield\u001b[0m \u001b[0mnode\u001b[0m\u001b[1;33m\u001b[0m\u001b[1;33m\u001b[0m\u001b[0m\n",
      "\u001b[1;31mAttributeError\u001b[0m: 'SinglyList' object has no attribute 'head'"
     ]
    }
   ],
   "source": [
    "class Node:\n",
    "    def __init__(self,value=None):\n",
    "        self.value=value\n",
    "        self.next=None\n",
    "\n",
    "class SinglyList:\n",
    "    def __int__(self):\n",
    "        self.head= None\n",
    "        self.tail= None\n",
    "    def __iter__(self):\n",
    "        node=self.head\n",
    "        while node:\n",
    "            yield node\n",
    "            node=node.next\n",
    "            \n",
    "singlyLinkedList=SinglyList()\n",
    "print([node.value for node in singlyLinkedList])"
   ]
  },
  {
   "cell_type": "code",
   "execution_count": 7,
   "id": "340ca7e4",
   "metadata": {},
   "outputs": [],
   "source": [
    "def twoSum(nums,target):    \n",
    "    for i in range(len(nums)):\n",
    "        for j in range(i+1,len(nums)):\n",
    "            sum =nums[i] +nums[j]\n",
    "            if sum==target:\n",
    "                return [i,j]"
   ]
  },
  {
   "cell_type": "code",
   "execution_count": 10,
   "id": "dbd57f5f",
   "metadata": {},
   "outputs": [
    {
     "data": {
      "text/plain": [
       "[2, 5]"
      ]
     },
     "execution_count": 10,
     "metadata": {},
     "output_type": "execute_result"
    }
   ],
   "source": [
    "nums=[1,2,3,4,5,6]\n",
    "twoSum(nums,9)"
   ]
  },
  {
   "cell_type": "code",
   "execution_count": 16,
   "id": "14b53d9f",
   "metadata": {},
   "outputs": [],
   "source": [
    "def primeNumber(n):\n",
    "    if(n<=0  or n==1):\n",
    "        return False\n",
    "    for i in range(2,n):\n",
    "        if (n%i==0):                                       \n",
    "            return False\n",
    "    return True"
   ]
  },
  {
   "cell_type": "code",
   "execution_count": 17,
   "id": "5658a366",
   "metadata": {},
   "outputs": [
    {
     "name": "stdout",
     "output_type": "stream",
     "text": [
      "0\n"
     ]
    },
    {
     "data": {
      "text/plain": [
       "False"
      ]
     },
     "execution_count": 17,
     "metadata": {},
     "output_type": "execute_result"
    }
   ],
   "source": [
    "n=int(input())\n",
    "primeNumber(n)"
   ]
  },
  {
   "cell_type": "code",
   "execution_count": null,
   "id": "d4e3f4ad",
   "metadata": {},
   "outputs": [],
   "source": []
  }
 ],
 "metadata": {
  "kernelspec": {
   "display_name": "Python 3 (ipykernel)",
   "language": "python",
   "name": "python3"
  },
  "language_info": {
   "codemirror_mode": {
    "name": "ipython",
    "version": 3
   },
   "file_extension": ".py",
   "mimetype": "text/x-python",
   "name": "python",
   "nbconvert_exporter": "python",
   "pygments_lexer": "ipython3",
   "version": "3.9.7"
  }
 },
 "nbformat": 4,
 "nbformat_minor": 5
}
