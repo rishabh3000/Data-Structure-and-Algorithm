{
 "cells": [
  {
   "cell_type": "markdown",
   "id": "3ec631d5",
   "metadata": {},
   "source": [
    "## O(1) Constant"
   ]
  },
  {
   "cell_type": "code",
   "execution_count": 1,
   "id": "5d1c0ef1",
   "metadata": {},
   "outputs": [],
   "source": [
    "def func_constant(values):\n",
    "    print(values[0])"
   ]
  },
  {
   "cell_type": "code",
   "execution_count": 2,
   "id": "d046507a",
   "metadata": {},
   "outputs": [
    {
     "name": "stdout",
     "output_type": "stream",
     "text": [
      "2\n"
     ]
    }
   ],
   "source": [
    "lst=[2,3,4]\n",
    "func_constant(lst)"
   ]
  },
  {
   "cell_type": "markdown",
   "id": "c2c9185e",
   "metadata": {},
   "source": [
    "## O(n) linear"
   ]
  },
  {
   "cell_type": "code",
   "execution_count": 4,
   "id": "a68fe0f0",
   "metadata": {},
   "outputs": [],
   "source": [
    "def func_list(lst):\n",
    "    for val in lst:\n",
    "        print(val)"
   ]
  },
  {
   "cell_type": "code",
   "execution_count": 6,
   "id": "74227ffa",
   "metadata": {},
   "outputs": [
    {
     "name": "stdout",
     "output_type": "stream",
     "text": [
      "2\n",
      "3\n",
      "4\n"
     ]
    }
   ],
   "source": [
    "func_list(lst)"
   ]
  },
  {
   "cell_type": "markdown",
   "id": "33212c35",
   "metadata": {},
   "source": [
    "## O(n^2) Quadratic"
   ]
  },
  {
   "cell_type": "code",
   "execution_count": 10,
   "id": "1d6b193a",
   "metadata": {},
   "outputs": [],
   "source": [
    "def func_quad(lst):\n",
    "    for item_1 in lst:\n",
    "        for item_2 in lst:\n",
    "            print (item_1,item_2)"
   ]
  },
  {
   "cell_type": "code",
   "execution_count": 11,
   "id": "59ec3275",
   "metadata": {},
   "outputs": [
    {
     "name": "stdout",
     "output_type": "stream",
     "text": [
      "3 3\n",
      "3 4\n",
      "3 5\n",
      "4 3\n",
      "4 4\n",
      "4 5\n",
      "5 3\n",
      "5 4\n",
      "5 5\n"
     ]
    }
   ],
   "source": [
    "lst =[3,4,5]\n",
    "\n",
    "func_quad(lst)"
   ]
  },
  {
   "cell_type": "code",
   "execution_count": 13,
   "id": "2fd63948",
   "metadata": {},
   "outputs": [],
   "source": [
    "# O(n) or O(2n)\n",
    "\n",
    "def print_(lst):\n",
    "    for val in lst:\n",
    "        print (val)\n",
    "    for val in lst:\n",
    "        print (val)"
   ]
  },
  {
   "cell_type": "code",
   "execution_count": 15,
   "id": "c62dd88a",
   "metadata": {},
   "outputs": [
    {
     "name": "stdout",
     "output_type": "stream",
     "text": [
      "3\n",
      "4\n",
      "5\n",
      "3\n",
      "4\n",
      "5\n"
     ]
    }
   ],
   "source": [
    "print_(lst)"
   ]
  },
  {
   "cell_type": "code",
   "execution_count": 8,
   "id": "eaeb34c4",
   "metadata": {},
   "outputs": [],
   "source": [
    " def matcher(lst,match):\n",
    "        for item in lst:\n",
    "            if item==match:\n",
    "                return True\n",
    "        return False\n",
    "    "
   ]
  },
  {
   "cell_type": "code",
   "execution_count": 9,
   "id": "21e36d53",
   "metadata": {},
   "outputs": [
    {
     "data": {
      "text/plain": [
       "[1, 2, 3, 4, 5]"
      ]
     },
     "execution_count": 9,
     "metadata": {},
     "output_type": "execute_result"
    }
   ],
   "source": [
    "lst"
   ]
  },
  {
   "cell_type": "code",
   "execution_count": 12,
   "id": "7df1a070",
   "metadata": {},
   "outputs": [
    {
     "data": {
      "text/plain": [
       "True"
      ]
     },
     "execution_count": 12,
     "metadata": {},
     "output_type": "execute_result"
    }
   ],
   "source": [
    "matcher(lst,1) # O(1)"
   ]
  },
  {
   "cell_type": "code",
   "execution_count": 13,
   "id": "61b1e42a",
   "metadata": {},
   "outputs": [
    {
     "data": {
      "text/plain": [
       "False"
      ]
     },
     "execution_count": 13,
     "metadata": {},
     "output_type": "execute_result"
    }
   ],
   "source": [
    "matcher(lst,6) # O(n)"
   ]
  },
  {
   "cell_type": "code",
   "execution_count": 14,
   "id": "d14dbffa",
   "metadata": {},
   "outputs": [],
   "source": [
    "def create_list(n):\n",
    "    new_list = []\n",
    "    \n",
    "    for num in range(n):\n",
    "        new_list.append('new')\n",
    "    return new_list"
   ]
  },
  {
   "cell_type": "code",
   "execution_count": 15,
   "id": "dd7cbfed",
   "metadata": {},
   "outputs": [
    {
     "data": {
      "text/plain": [
       "['new', 'new', 'new', 'new', 'new']"
      ]
     },
     "execution_count": 15,
     "metadata": {},
     "output_type": "execute_result"
    }
   ],
   "source": [
    "create_list(5)"
   ]
  },
  {
   "cell_type": "code",
   "execution_count": 17,
   "id": "a2c5ff15",
   "metadata": {},
   "outputs": [],
   "source": [
    "def prt(n):\n",
    "    for i in range(n): # Time complexity O(n)\n",
    "        print (\"Hello world\")  # space complexity O(1)"
   ]
  },
  {
   "cell_type": "code",
   "execution_count": 18,
   "id": "67e2fe36",
   "metadata": {},
   "outputs": [
    {
     "name": "stdout",
     "output_type": "stream",
     "text": [
      "Hello world\n",
      "Hello world\n",
      "Hello world\n",
      "Hello world\n",
      "Hello world\n",
      "Hello world\n",
      "Hello world\n",
      "Hello world\n",
      "Hello world\n",
      "Hello world\n"
     ]
    }
   ],
   "source": [
    "prt(10)"
   ]
  },
  {
   "cell_type": "code",
   "execution_count": 1,
   "id": "a79748b2",
   "metadata": {},
   "outputs": [],
   "source": [
    "def method1():\n",
    "    l=[]\n",
    "    for n in range(10000):\n",
    "        l=l+[n]\n",
    "    \n",
    "def method2():\n",
    "    l=[]\n",
    "    \n",
    "    for n in range(10000):\n",
    "        l.append(n)\n",
    "         \n",
    "        \n",
    "def method3():\n",
    "    l=[n for n in range(10000)]\n",
    "    \n",
    "def method4():\n",
    "    l=range(10000)"
   ]
  },
  {
   "cell_type": "code",
   "execution_count": 2,
   "id": "43ffbc33",
   "metadata": {},
   "outputs": [
    {
     "name": "stdout",
     "output_type": "stream",
     "text": [
      "390 ms ± 94.3 ms per loop (mean ± std. dev. of 7 runs, 1 loop each)\n",
      "The slowest run took 7.77 times longer than the fastest. This could mean that an intermediate result is being cached.\n",
      "2.13 ms ± 1.66 ms per loop (mean ± std. dev. of 7 runs, 100 loops each)\n",
      "954 µs ± 341 µs per loop (mean ± std. dev. of 7 runs, 1000 loops each)\n",
      "782 ns ± 254 ns per loop (mean ± std. dev. of 7 runs, 1000000 loops each)\n"
     ]
    }
   ],
   "source": [
    "%timeit method1()\n",
    "%timeit method2()\n",
    "%timeit method3()\n",
    "%timeit method4()"
   ]
  },
  {
   "cell_type": "code",
   "execution_count": null,
   "id": "dd33b776",
   "metadata": {},
   "outputs": [],
   "source": [
    " "
   ]
  }
 ],
 "metadata": {
  "kernelspec": {
   "display_name": "Python 3 (ipykernel)",
   "language": "python",
   "name": "python3"
  },
  "language_info": {
   "codemirror_mode": {
    "name": "ipython",
    "version": 3
   },
   "file_extension": ".py",
   "mimetype": "text/x-python",
   "name": "python",
   "nbconvert_exporter": "python",
   "pygments_lexer": "ipython3",
   "version": "3.9.7"
  }
 },
 "nbformat": 4,
 "nbformat_minor": 5
}
