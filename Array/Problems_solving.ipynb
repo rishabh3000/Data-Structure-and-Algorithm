{
 "cells": [
  {
   "cell_type": "code",
   "execution_count": 1,
   "id": "20a29f23",
   "metadata": {},
   "outputs": [],
   "source": [
    "# find a number in an integer array\n",
    "\n",
    "myList=[1,2,3,4,5,6,7,8,9,10,11,12,13,14,15,16,17,19,20]\n",
    "\n",
    "def findMissing(list,n):\n",
    "    sum1=20*21/2\n",
    "    sum2=sum(list)\n",
    "    \n",
    "    print(sum1-sum2)"
   ]
  },
  {
   "cell_type": "code",
   "execution_count": 2,
   "id": "3efa0bd7",
   "metadata": {},
   "outputs": [
    {
     "name": "stdout",
     "output_type": "stream",
     "text": [
      "18.0\n"
     ]
    }
   ],
   "source": [
    "findMissing(myList,20)"
   ]
  },
  {
   "cell_type": "code",
   "execution_count": 5,
   "id": "f9c58d67",
   "metadata": {},
   "outputs": [
    {
     "name": "stdout",
     "output_type": "stream",
     "text": [
      "1 9\n",
      "2 8\n",
      "3 7\n",
      "4 6\n"
     ]
    }
   ],
   "source": [
    "# Write a program to find all pairs of integers whose sum is equal to a given number\n",
    "\n",
    "myList=[1,2,3,4,5,6,7,8,9,10,11,12,13,14,15,16,17,18,19,20]\n",
    "\n",
    "def findpair(list,sum):\n",
    "    for i in range(len(list)):\n",
    "        for j in range(i+1,len(list)):\n",
    "            if list[i]+list[j]==sum:\n",
    "                print(list[i],list[j])\n",
    "                \n",
    "                \n",
    "findpair(myList,10)"
   ]
  },
  {
   "cell_type": "code",
   "execution_count": 10,
   "id": "bce34ea6",
   "metadata": {},
   "outputs": [],
   "source": [
    "# Find the maximum product of two integers in the array\n",
    "\n",
    "import numpy as np\n",
    "\n",
    "myArray=np.array([1,2,3,4,5,11,18,19,24,28,34,57,85,78])\n",
    "\n",
    "def findMaxproduct(array):\n",
    "    maxproduct=0\n",
    "    \n",
    "    for i in range (len(array)):\n",
    "        for j in range(i+1,len(array)):\n",
    "            if array[i] *array[j]>maxproduct:\n",
    "                maxproduct=array[i]*array[j]\n",
    "                \n",
    "                pairs=str(array[i]) +\",\"+ str(array[j])\n",
    "                \n",
    "    print(maxproduct)\n",
    "    print(pairs)"
   ]
  },
  {
   "cell_type": "code",
   "execution_count": 11,
   "id": "6bafabff",
   "metadata": {},
   "outputs": [
    {
     "name": "stdout",
     "output_type": "stream",
     "text": [
      "6630\n",
      "85,78\n"
     ]
    }
   ],
   "source": [
    "findMaxproduct(myArray)"
   ]
  },
  {
   "cell_type": "code",
   "execution_count": 12,
   "id": "ef079774",
   "metadata": {},
   "outputs": [
    {
     "name": "stdout",
     "output_type": "stream",
     "text": [
      "16\n"
     ]
    },
    {
     "data": {
      "text/plain": [
       "False"
      ]
     },
     "execution_count": 12,
     "metadata": {},
     "output_type": "execute_result"
    }
   ],
   "source": [
    "# determine the list has all elemnt is unique or not\n",
    "\n",
    "\n",
    "myList=[1,2,3,4,5,6,7,8,9,10,11,12,13,14,15,16,16,17,18,19,20]\n",
    "def isUnique(list):\n",
    "    a=[]\n",
    "    \n",
    "    for i in list:\n",
    "        if i in a:\n",
    "            print(i)\n",
    "            return False\n",
    "        else:\n",
    "            a.append(i)\n",
    "        \n",
    "        \n",
    "    return True\n",
    "\n",
    "isUnique(myList)"
   ]
  },
  {
   "cell_type": "code",
   "execution_count": 13,
   "id": "82e26065",
   "metadata": {},
   "outputs": [
    {
     "data": {
      "text/plain": [
       "True"
      ]
     },
     "execution_count": 13,
     "metadata": {},
     "output_type": "execute_result"
    }
   ],
   "source": [
    "myList=[1,2,3,4,5,6,7,8,9,10,11,12,13,14,15,16,17,18,19,20]\n",
    "def isUnique(list):\n",
    "    a=[]\n",
    "    \n",
    "    for i in list:\n",
    "        if i in a:\n",
    "            print(i)\n",
    "            return False\n",
    "        else:\n",
    "            a.append(i)\n",
    "        \n",
    "        \n",
    "    return True\n",
    "\n",
    "isUnique(myList)"
   ]
  },
  {
   "cell_type": "code",
   "execution_count": 14,
   "id": "99620b61",
   "metadata": {},
   "outputs": [],
   "source": [
    "  #  Permutation\n",
    "    \n",
    "def permutation(list1,list2):\n",
    "    list2.reverse()\n",
    "    \n",
    "    if list1==list2:\n",
    "        return True\n",
    "    \n",
    "    else:\n",
    "        return False\n",
    "    \n"
   ]
  },
  {
   "cell_type": "code",
   "execution_count": 15,
   "id": "7b7f4391",
   "metadata": {},
   "outputs": [
    {
     "data": {
      "text/plain": [
       "True"
      ]
     },
     "execution_count": 15,
     "metadata": {},
     "output_type": "execute_result"
    }
   ],
   "source": [
    "permutation([1,2,3],[3,2,1])"
   ]
  },
  {
   "cell_type": "code",
   "execution_count": null,
   "id": "dbf0fbe0",
   "metadata": {},
   "outputs": [],
   "source": []
  }
 ],
 "metadata": {
  "kernelspec": {
   "display_name": "Python 3 (ipykernel)",
   "language": "python",
   "name": "python3"
  },
  "language_info": {
   "codemirror_mode": {
    "name": "ipython",
    "version": 3
   },
   "file_extension": ".py",
   "mimetype": "text/x-python",
   "name": "python",
   "nbconvert_exporter": "python",
   "pygments_lexer": "ipython3",
   "version": "3.9.7"
  }
 },
 "nbformat": 4,
 "nbformat_minor": 5
}
