{
 "cells": [
  {
   "cell_type": "markdown",
   "id": "c367d424",
   "metadata": {},
   "source": [
    "## Anagram"
   ]
  },
  {
   "cell_type": "code",
   "execution_count": 1,
   "id": "026b99bb",
   "metadata": {},
   "outputs": [],
   "source": [
    "def anagram(s1,s2):\n",
    "    s1=s1.replace(\" \",\"\").lower\n",
    "    s2=s2.replace(\" \",'').lower\n",
    "    return sorted('s1')==sorted('s2')"
   ]
  },
  {
   "cell_type": "code",
   "execution_count": 2,
   "id": "3b8a79e3",
   "metadata": {},
   "outputs": [
    {
     "data": {
      "text/plain": [
       "False"
      ]
     },
     "execution_count": 2,
     "metadata": {},
     "output_type": "execute_result"
    }
   ],
   "source": [
    "anagram('god','dog')"
   ]
  },
  {
   "cell_type": "markdown",
   "id": "d567a254",
   "metadata": {},
   "source": [
    "## Tranvese the Array"
   ]
  },
  {
   "cell_type": "code",
   "execution_count": 3,
   "id": "cc1d0522",
   "metadata": {},
   "outputs": [
    {
     "name": "stdout",
     "output_type": "stream",
     "text": [
      "1\n",
      "2\n",
      "3\n",
      "4\n",
      "5\n",
      "6\n",
      "7\n",
      "8\n",
      "9\n"
     ]
    }
   ],
   "source": [
    "arr1=[1,2,3,4,5,6,7,8,9]\n",
    "\n",
    "def transArray(array):\n",
    "    for i in array:\n",
    "        print(i)\n",
    "        \n",
    "transArray(arr1)"
   ]
  },
  {
   "cell_type": "markdown",
   "id": "e3d5a72c",
   "metadata": {},
   "source": [
    "## Acessing the element of array"
   ]
  },
  {
   "cell_type": "code",
   "execution_count": 4,
   "id": "65e2180a",
   "metadata": {},
   "outputs": [],
   "source": [
    "arr1=[1,2,3,4,5,6,7,8,9]"
   ]
  },
  {
   "cell_type": "code",
   "execution_count": 5,
   "id": "2cad6f05",
   "metadata": {},
   "outputs": [],
   "source": [
    "def accessElement(array,index):\n",
    "    if index>len(array):\n",
    "        print(\"There is not any element in this index\")\n",
    "    else:\n",
    "        print(array[index])"
   ]
  },
  {
   "cell_type": "code",
   "execution_count": 6,
   "id": "7933cbce",
   "metadata": {},
   "outputs": [
    {
     "name": "stdout",
     "output_type": "stream",
     "text": [
      "5\n"
     ]
    }
   ],
   "source": [
    "accessElement(arr1,4)"
   ]
  },
  {
   "cell_type": "code",
   "execution_count": 7,
   "id": "fdbb925c",
   "metadata": {},
   "outputs": [],
   "source": [
    "def searchAray(array,value):\n",
    "    for i in array:\n",
    "        if i==value:\n",
    "            return array.index(value)\n",
    "    return \"Element not present in array \""
   ]
  },
  {
   "cell_type": "code",
   "execution_count": 8,
   "id": "b8552e72",
   "metadata": {},
   "outputs": [
    {
     "data": {
      "text/plain": [
       "5"
      ]
     },
     "execution_count": 8,
     "metadata": {},
     "output_type": "execute_result"
    }
   ],
   "source": [
    "searchAray(arr1,6)"
   ]
  },
  {
   "cell_type": "code",
   "execution_count": 9,
   "id": "2433f8b0",
   "metadata": {},
   "outputs": [
    {
     "name": "stdout",
     "output_type": "stream",
     "text": [
      "[1, 2, 3, 4, 5, 6, 8, 9]\n"
     ]
    }
   ],
   "source": [
    "arr1.remove(7)\n",
    "print(arr1)"
   ]
  },
  {
   "cell_type": "markdown",
   "id": "7210f424",
   "metadata": {},
   "source": [
    "## Creating 2D Array"
   ]
  },
  {
   "cell_type": "code",
   "execution_count": 10,
   "id": "d5500e8b",
   "metadata": {},
   "outputs": [],
   "source": [
    "import numpy as np"
   ]
  },
  {
   "cell_type": "code",
   "execution_count": 11,
   "id": "3f51dc48",
   "metadata": {},
   "outputs": [
    {
     "data": {
      "text/plain": [
       "array([[11, 15, 10,  6],\n",
       "       [10, 14, 11,  5],\n",
       "       [12, 17, 12,  8],\n",
       "       [15, 18, 14,  9]])"
      ]
     },
     "execution_count": 11,
     "metadata": {},
     "output_type": "execute_result"
    }
   ],
   "source": [
    "twoDArray= np.array([[11,15,10,6],[10,14,11,5],[12,17,12,8],[15,18,14,9]])\n",
    "twoDArray"
   ]
  },
  {
   "cell_type": "markdown",
   "id": "0e6af28d",
   "metadata": {},
   "source": [
    "## Insertion - Two Dimensional array"
   ]
  },
  {
   "cell_type": "code",
   "execution_count": 12,
   "id": "43f3f495",
   "metadata": {},
   "outputs": [
    {
     "data": {
      "text/plain": [
       "array([[ 1, 11, 15, 10,  6],\n",
       "       [ 2, 10, 14, 11,  5],\n",
       "       [ 3, 12, 17, 12,  8],\n",
       "       [ 4, 15, 18, 14,  9]])"
      ]
     },
     "execution_count": 12,
     "metadata": {},
     "output_type": "execute_result"
    }
   ],
   "source": [
    "newTwoDArray=np.insert(twoDArray,0,[[1,2,3,4]],axis=1)\n",
    "newTwoDArray"
   ]
  },
  {
   "cell_type": "code",
   "execution_count": 13,
   "id": "9597adf7",
   "metadata": {},
   "outputs": [
    {
     "data": {
      "text/plain": [
       "array([[ 1,  2,  3,  4],\n",
       "       [11, 15, 10,  6],\n",
       "       [10, 14, 11,  5],\n",
       "       [12, 17, 12,  8],\n",
       "       [15, 18, 14,  9]])"
      ]
     },
     "execution_count": 13,
     "metadata": {},
     "output_type": "execute_result"
    }
   ],
   "source": [
    "newTwoDArray=np.insert(twoDArray,0,[[1,2,3,4]],axis=0)\n",
    "newTwoDArray"
   ]
  },
  {
   "cell_type": "markdown",
   "id": "4e61868d",
   "metadata": {},
   "source": [
    "## Acessing Element"
   ]
  },
  {
   "cell_type": "code",
   "execution_count": 14,
   "id": "414ec1b7",
   "metadata": {},
   "outputs": [],
   "source": [
    "def accessElements(array,rowIndex,colIndex):\n",
    "    if rowIndex >=len(array) and colIndex>=len(array[0]):\n",
    "        print(\"Inccorect Index\")\n",
    "    else:\n",
    "        print(array[rowIndex][colIndex])"
   ]
  },
  {
   "cell_type": "code",
   "execution_count": 15,
   "id": "03b5f2d2",
   "metadata": {},
   "outputs": [
    {
     "name": "stdout",
     "output_type": "stream",
     "text": [
      "8\n"
     ]
    }
   ],
   "source": [
    "accessElements(newTwoDArray,3,3)"
   ]
  },
  {
   "cell_type": "markdown",
   "id": "917ff1d7",
   "metadata": {},
   "source": [
    "## Traverse the Array"
   ]
  },
  {
   "cell_type": "code",
   "execution_count": 16,
   "id": "c08cac94",
   "metadata": {},
   "outputs": [],
   "source": [
    "def travserse2DArray(array):\n",
    "    for i in range(len(array)):\n",
    "        for j in range(len(array[0])):\n",
    "            print(array[i][j])"
   ]
  },
  {
   "cell_type": "code",
   "execution_count": 17,
   "id": "0d55cbbc",
   "metadata": {},
   "outputs": [
    {
     "name": "stdout",
     "output_type": "stream",
     "text": [
      "11\n",
      "15\n",
      "10\n",
      "6\n",
      "10\n",
      "14\n",
      "11\n",
      "5\n",
      "12\n",
      "17\n",
      "12\n",
      "8\n",
      "15\n",
      "18\n",
      "14\n",
      "9\n"
     ]
    }
   ],
   "source": [
    "travserse2DArray(twoDArray)"
   ]
  },
  {
   "cell_type": "markdown",
   "id": "0446b5b1",
   "metadata": {},
   "source": [
    "## Searching for an element in 2D Array"
   ]
  },
  {
   "cell_type": "code",
   "execution_count": 18,
   "id": "11c8fe95",
   "metadata": {},
   "outputs": [],
   "source": [
    "def searcharr(array,value):\n",
    "    for i in range(len(array)):\n",
    "        for j in range(len(array[0])):\n",
    "            if array[i][j]==value:\n",
    "                return \"The is value is located at :\" +str(i) +\" at i position and \"+ str(j) +\" at j position\"\n",
    "    return (\"The value in not in the Array: \")"
   ]
  },
  {
   "cell_type": "code",
   "execution_count": 19,
   "id": "35459907",
   "metadata": {},
   "outputs": [
    {
     "data": {
      "text/plain": [
       "'The is value is located at :2 at i position and 1 at j position'"
      ]
     },
     "execution_count": 19,
     "metadata": {},
     "output_type": "execute_result"
    }
   ],
   "source": [
    "searcharr(twoDArray,17)"
   ]
  },
  {
   "cell_type": "code",
   "execution_count": 20,
   "id": "44d82cc6",
   "metadata": {},
   "outputs": [
    {
     "data": {
      "text/plain": [
       "'The value in not in the Array: '"
      ]
     },
     "execution_count": 20,
     "metadata": {},
     "output_type": "execute_result"
    }
   ],
   "source": [
    "searcharr(twoDArray,300)"
   ]
  },
  {
   "cell_type": "code",
   "execution_count": null,
   "id": "6dc5ad7c",
   "metadata": {},
   "outputs": [],
   "source": []
  }
 ],
 "metadata": {
  "kernelspec": {
   "display_name": "Python 3 (ipykernel)",
   "language": "python",
   "name": "python3"
  },
  "language_info": {
   "codemirror_mode": {
    "name": "ipython",
    "version": 3
   },
   "file_extension": ".py",
   "mimetype": "text/x-python",
   "name": "python",
   "nbconvert_exporter": "python",
   "pygments_lexer": "ipython3",
   "version": "3.9.7"
  }
 },
 "nbformat": 4,
 "nbformat_minor": 5
}
