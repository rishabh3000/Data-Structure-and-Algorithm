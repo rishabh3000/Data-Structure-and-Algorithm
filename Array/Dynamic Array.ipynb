{
 "cells": [
  {
   "cell_type": "code",
   "execution_count": 5,
   "id": "f1d17242",
   "metadata": {},
   "outputs": [
    {
     "name": "stdout",
     "output_type": "stream",
     "text": [
      "Length :  0; size in bytes:   56\n",
      "Length :  1; size in bytes:   88\n",
      "Length :  2; size in bytes:   88\n",
      "Length :  3; size in bytes:   88\n",
      "Length :  4; size in bytes:   88\n",
      "Length :  5; size in bytes:  120\n",
      "Length :  6; size in bytes:  120\n",
      "Length :  7; size in bytes:  120\n",
      "Length :  8; size in bytes:  120\n",
      "Length :  9; size in bytes:  184\n"
     ]
    }
   ],
   "source": [
    "import sys\n",
    "\n",
    "\n",
    "n=10\n",
    "\n",
    "\n",
    "data=[]\n",
    "\n",
    "for i in range(n):\n",
    "    \n",
    "    a=len(data)\n",
    "    \n",
    "    b=sys.getsizeof(data)\n",
    "    \n",
    "    print(\"Length :{0:3d}; size in bytes: {1:4d}\".format(a,b))\n",
    "    \n",
    "    data.append(n)"
   ]
  },
  {
   "cell_type": "markdown",
   "id": "4c5d4834",
   "metadata": {},
   "source": [
    "##  Dynamic Array Implementation"
   ]
  },
  {
   "cell_type": "code",
   "execution_count": 6,
   "id": "cb01eba0",
   "metadata": {},
   "outputs": [],
   "source": [
    "class M(object):\n",
    "    def public(self):\n",
    "        print(\"Use Tab to see me! \")\n",
    "        \n",
    "    def _private(self):\n",
    "        print(\"You wont be able to Tab to see me! \")"
   ]
  },
  {
   "cell_type": "code",
   "execution_count": 7,
   "id": "4d25ada9",
   "metadata": {},
   "outputs": [],
   "source": [
    "m=M()"
   ]
  },
  {
   "cell_type": "code",
   "execution_count": 8,
   "id": "dbb98127",
   "metadata": {},
   "outputs": [
    {
     "name": "stdout",
     "output_type": "stream",
     "text": [
      "Use Tab to see me! \n"
     ]
    }
   ],
   "source": [
    "m.public()"
   ]
  },
  {
   "cell_type": "code",
   "execution_count": 9,
   "id": "74a07e3b",
   "metadata": {},
   "outputs": [
    {
     "name": "stdout",
     "output_type": "stream",
     "text": [
      "You wont be able to Tab to see me! \n"
     ]
    }
   ],
   "source": [
    "m._private()"
   ]
  },
  {
   "cell_type": "code",
   "execution_count": null,
   "id": "3221fe1e",
   "metadata": {},
   "outputs": [],
   "source": [
    "import ctypes\n",
    "\n",
    "\n",
    "class DynamicArray(object):\n",
    "    \n",
    "    def __init__(self):\n",
    "         b"
   ]
  }
 ],
 "metadata": {
  "kernelspec": {
   "display_name": "Python 3 (ipykernel)",
   "language": "python",
   "name": "python3"
  },
  "language_info": {
   "codemirror_mode": {
    "name": "ipython",
    "version": 3
   },
   "file_extension": ".py",
   "mimetype": "text/x-python",
   "name": "python",
   "nbconvert_exporter": "python",
   "pygments_lexer": "ipython3",
   "version": "3.9.7"
  }
 },
 "nbformat": 4,
 "nbformat_minor": 5
}
